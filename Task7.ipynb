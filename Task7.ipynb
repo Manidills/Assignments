{
  "nbformat": 4,
  "nbformat_minor": 0,
  "metadata": {
    "colab": {
      "name": "Task7",
      "provenance": []
    },
    "kernelspec": {
      "name": "python3",
      "display_name": "Python 3"
    },
    "accelerator": "GPU"
  },
  "cells": [
    {
      "cell_type": "code",
      "metadata": {
        "id": "tTRMKFJjV86j",
        "colab_type": "code",
        "colab": {}
      },
      "source": [
        "import numpy as np\n",
        "\n",
        "import pandas as pd\n",
        "\n",
        "import seaborn as sns\n",
        "\n",
        "import matplotlib.pyplot as plt\n",
        "\n",
        "from sklearn.datasets import load_boston\n",
        "\n",
        "from sklearn.model_selection import train_test_split\n",
        "\n",
        "from sklearn.linear_model import LinearRegression\n",
        "\n",
        "from sklearn.metrics import mean_absolute_error, mean_squared_error\n",
        "\n",
        "from sklearn.feature_selection import SelectKBest\n",
        "\n",
        "from sklearn.feature_selection import chi2\n",
        "\n",
        "from sklearn.ensemble import ExtraTreesClassifier\n"
      ],
      "execution_count": 0,
      "outputs": []
    },
    {
      "cell_type": "code",
      "metadata": {
        "id": "lIMFR7WYkB1P",
        "colab_type": "code",
        "colab": {}
      },
      "source": [
        "train=pd.read_csv('/content/online_and_mail_shopping.csv')"
      ],
      "execution_count": 0,
      "outputs": []
    },
    {
      "cell_type": "code",
      "metadata": {
        "id": "3US_aUtIkMEL",
        "colab_type": "code",
        "outputId": "e4606fad-fae8-4f34-e53c-46830cb348c3",
        "colab": {
          "base_uri": "https://localhost:8080/",
          "height": 206
        }
      },
      "source": [
        "train.tail()"
      ],
      "execution_count": 0,
      "outputs": [
        {
          "output_type": "execute_result",
          "data": {
            "text/html": [
              "<div>\n",
              "<style scoped>\n",
              "    .dataframe tbody tr th:only-of-type {\n",
              "        vertical-align: middle;\n",
              "    }\n",
              "\n",
              "    .dataframe tbody tr th {\n",
              "        vertical-align: top;\n",
              "    }\n",
              "\n",
              "    .dataframe thead th {\n",
              "        text-align: right;\n",
              "    }\n",
              "</style>\n",
              "<table border=\"1\" class=\"dataframe\">\n",
              "  <thead>\n",
              "    <tr style=\"text-align: right;\">\n",
              "      <th></th>\n",
              "      <th>month</th>\n",
              "      <th>mdollars</th>\n",
              "    </tr>\n",
              "  </thead>\n",
              "  <tbody>\n",
              "    <tr>\n",
              "      <th>101</th>\n",
              "      <td>2010-06</td>\n",
              "      <td>20787</td>\n",
              "    </tr>\n",
              "    <tr>\n",
              "      <th>102</th>\n",
              "      <td>2010-07</td>\n",
              "      <td>19659</td>\n",
              "    </tr>\n",
              "    <tr>\n",
              "      <th>103</th>\n",
              "      <td>2010-08</td>\n",
              "      <td>21369</td>\n",
              "    </tr>\n",
              "    <tr>\n",
              "      <th>104</th>\n",
              "      <td>2010-09</td>\n",
              "      <td>21115</td>\n",
              "    </tr>\n",
              "    <tr>\n",
              "      <th>105</th>\n",
              "      <td>2010-10</td>\n",
              "      <td>21196</td>\n",
              "    </tr>\n",
              "  </tbody>\n",
              "</table>\n",
              "</div>"
            ],
            "text/plain": [
              "       month  mdollars\n",
              "101  2010-06     20787\n",
              "102  2010-07     19659\n",
              "103  2010-08     21369\n",
              "104  2010-09     21115\n",
              "105  2010-10     21196"
            ]
          },
          "metadata": {
            "tags": []
          },
          "execution_count": 12
        }
      ]
    },
    {
      "cell_type": "code",
      "metadata": {
        "id": "Wx5znyZjkr6U",
        "colab_type": "code",
        "colab": {}
      },
      "source": [
        "from keras.models import Sequential\n",
        "from keras.layers import Dense,Dropout,LSTM,BatchNormalization\n",
        "from sklearn.preprocessing import MinMaxScaler"
      ],
      "execution_count": 0,
      "outputs": []
    },
    {
      "cell_type": "code",
      "metadata": {
        "id": "15r90XHamGbz",
        "colab_type": "code",
        "colab": {}
      },
      "source": [
        "data=train['mdollars']"
      ],
      "execution_count": 0,
      "outputs": []
    },
    {
      "cell_type": "code",
      "metadata": {
        "id": "BR9RwLQHmdij",
        "colab_type": "code",
        "colab": {}
      },
      "source": [
        "data=np.array(data).reshape(-1,1)\n",
        "\n",
        "sc=MinMaxScaler()\n",
        "\n",
        "data=sc.fit_transform(data)"
      ],
      "execution_count": 0,
      "outputs": []
    },
    {
      "cell_type": "code",
      "metadata": {
        "id": "GrTl-Fvamhc5",
        "colab_type": "code",
        "colab": {}
      },
      "source": [
        "def get_data(data,lookback):\n",
        "    datax,datay=[],[]\n",
        "    for i in range(len(data)-lookback-1):\n",
        "      a=data[i:(i+lookback),0]\n",
        "      datax.append(a)\n",
        "      datay.append(data[i+lookback])\n",
        "    return np.array(datax),np.array(datay)"
      ],
      "execution_count": 0,
      "outputs": []
    },
    {
      "cell_type": "code",
      "metadata": {
        "id": "F8WwM2IZmkGo",
        "colab_type": "code",
        "colab": {}
      },
      "source": [
        "lookback=1\n",
        "xtrain,ytrain=get_data(data,lookback)"
      ],
      "execution_count": 0,
      "outputs": []
    },
    {
      "cell_type": "code",
      "metadata": {
        "id": "u8xG1Y0GmsMC",
        "colab_type": "code",
        "outputId": "9ca6bb63-6e6b-4997-d7ac-b1304aa421dc",
        "colab": {
          "base_uri": "https://localhost:8080/",
          "height": 34
        }
      },
      "source": [
        "xtrain.shape"
      ],
      "execution_count": 0,
      "outputs": [
        {
          "output_type": "execute_result",
          "data": {
            "text/plain": [
              "(104, 1)"
            ]
          },
          "metadata": {
            "tags": []
          },
          "execution_count": 18
        }
      ]
    },
    {
      "cell_type": "code",
      "metadata": {
        "id": "XsFjNJm8ofkl",
        "colab_type": "code",
        "colab": {}
      },
      "source": [
        "X_train=xtrain.reshape(104,1,1)"
      ],
      "execution_count": 0,
      "outputs": []
    },
    {
      "cell_type": "code",
      "metadata": {
        "id": "5ndUHC7lolWQ",
        "colab_type": "code",
        "outputId": "67aa729e-67bb-447a-cc05-31fa2d37b619",
        "colab": {
          "base_uri": "https://localhost:8080/",
          "height": 34
        }
      },
      "source": [
        "X_train.shape"
      ],
      "execution_count": 0,
      "outputs": [
        {
          "output_type": "execute_result",
          "data": {
            "text/plain": [
              "(104, 1, 1)"
            ]
          },
          "metadata": {
            "tags": []
          },
          "execution_count": 20
        }
      ]
    },
    {
      "cell_type": "code",
      "metadata": {
        "id": "Y1c6KVflopPi",
        "colab_type": "code",
        "outputId": "f2290bbe-6fac-4ff9-e738-1add14904271",
        "colab": {
          "base_uri": "https://localhost:8080/",
          "height": 1000
        }
      },
      "source": [
        "model=Sequential()\n",
        "model.add(LSTM(5,input_shape=(1,lookback)))\n",
        "model.add(Dense(1))\n",
        "\n",
        "model.compile(loss='mse',optimizer='adam')\n",
        "\n",
        "model.fit(X_train,ytrain,epochs=200, batch_size=1)"
      ],
      "execution_count": 0,
      "outputs": [
        {
          "output_type": "stream",
          "text": [
            "WARNING:tensorflow:From /usr/local/lib/python3.6/dist-packages/keras/backend/tensorflow_backend.py:66: The name tf.get_default_graph is deprecated. Please use tf.compat.v1.get_default_graph instead.\n",
            "\n",
            "WARNING:tensorflow:From /usr/local/lib/python3.6/dist-packages/keras/backend/tensorflow_backend.py:541: The name tf.placeholder is deprecated. Please use tf.compat.v1.placeholder instead.\n",
            "\n",
            "WARNING:tensorflow:From /usr/local/lib/python3.6/dist-packages/keras/backend/tensorflow_backend.py:4432: The name tf.random_uniform is deprecated. Please use tf.random.uniform instead.\n",
            "\n",
            "WARNING:tensorflow:From /usr/local/lib/python3.6/dist-packages/keras/optimizers.py:793: The name tf.train.Optimizer is deprecated. Please use tf.compat.v1.train.Optimizer instead.\n",
            "\n",
            "WARNING:tensorflow:From /usr/local/lib/python3.6/dist-packages/tensorflow_core/python/ops/math_grad.py:1424: where (from tensorflow.python.ops.array_ops) is deprecated and will be removed in a future version.\n",
            "Instructions for updating:\n",
            "Use tf.where in 2.0, which has the same broadcast rule as np.where\n",
            "WARNING:tensorflow:From /usr/local/lib/python3.6/dist-packages/keras/backend/tensorflow_backend.py:1033: The name tf.assign_add is deprecated. Please use tf.compat.v1.assign_add instead.\n",
            "\n",
            "WARNING:tensorflow:From /usr/local/lib/python3.6/dist-packages/keras/backend/tensorflow_backend.py:1020: The name tf.assign is deprecated. Please use tf.compat.v1.assign instead.\n",
            "\n",
            "WARNING:tensorflow:From /usr/local/lib/python3.6/dist-packages/keras/backend/tensorflow_backend.py:3005: The name tf.Session is deprecated. Please use tf.compat.v1.Session instead.\n",
            "\n",
            "Epoch 1/200\n",
            "WARNING:tensorflow:From /usr/local/lib/python3.6/dist-packages/keras/backend/tensorflow_backend.py:190: The name tf.get_default_session is deprecated. Please use tf.compat.v1.get_default_session instead.\n",
            "\n",
            "WARNING:tensorflow:From /usr/local/lib/python3.6/dist-packages/keras/backend/tensorflow_backend.py:197: The name tf.ConfigProto is deprecated. Please use tf.compat.v1.ConfigProto instead.\n",
            "\n",
            "WARNING:tensorflow:From /usr/local/lib/python3.6/dist-packages/keras/backend/tensorflow_backend.py:207: The name tf.global_variables is deprecated. Please use tf.compat.v1.global_variables instead.\n",
            "\n",
            "WARNING:tensorflow:From /usr/local/lib/python3.6/dist-packages/keras/backend/tensorflow_backend.py:216: The name tf.is_variable_initialized is deprecated. Please use tf.compat.v1.is_variable_initialized instead.\n",
            "\n",
            "WARNING:tensorflow:From /usr/local/lib/python3.6/dist-packages/keras/backend/tensorflow_backend.py:223: The name tf.variables_initializer is deprecated. Please use tf.compat.v1.variables_initializer instead.\n",
            "\n",
            "104/104 [==============================] - 6s 58ms/step - loss: 0.1088\n",
            "Epoch 2/200\n",
            "104/104 [==============================] - 1s 7ms/step - loss: 0.0538\n",
            "Epoch 3/200\n",
            "104/104 [==============================] - 1s 6ms/step - loss: 0.0332\n",
            "Epoch 4/200\n",
            "104/104 [==============================] - 1s 7ms/step - loss: 0.0283\n",
            "Epoch 5/200\n",
            "104/104 [==============================] - 1s 7ms/step - loss: 0.0264\n",
            "Epoch 6/200\n",
            "104/104 [==============================] - 1s 7ms/step - loss: 0.0246\n",
            "Epoch 7/200\n",
            "104/104 [==============================] - 1s 7ms/step - loss: 0.0231\n",
            "Epoch 8/200\n",
            "104/104 [==============================] - 1s 6ms/step - loss: 0.0217\n",
            "Epoch 9/200\n",
            "104/104 [==============================] - 1s 7ms/step - loss: 0.0205\n",
            "Epoch 10/200\n",
            "104/104 [==============================] - 1s 7ms/step - loss: 0.0192\n",
            "Epoch 11/200\n",
            "104/104 [==============================] - 1s 7ms/step - loss: 0.0182\n",
            "Epoch 12/200\n",
            "104/104 [==============================] - 1s 6ms/step - loss: 0.0171\n",
            "Epoch 13/200\n",
            "104/104 [==============================] - 1s 7ms/step - loss: 0.0164\n",
            "Epoch 14/200\n",
            "104/104 [==============================] - 1s 7ms/step - loss: 0.0157\n",
            "Epoch 15/200\n",
            "104/104 [==============================] - 1s 7ms/step - loss: 0.0152\n",
            "Epoch 16/200\n",
            "104/104 [==============================] - 1s 7ms/step - loss: 0.0147\n",
            "Epoch 17/200\n",
            "104/104 [==============================] - 1s 7ms/step - loss: 0.0145\n",
            "Epoch 18/200\n",
            "104/104 [==============================] - 1s 6ms/step - loss: 0.0142\n",
            "Epoch 19/200\n",
            "104/104 [==============================] - 1s 7ms/step - loss: 0.0140\n",
            "Epoch 20/200\n",
            "104/104 [==============================] - 1s 7ms/step - loss: 0.0140\n",
            "Epoch 21/200\n",
            "104/104 [==============================] - 1s 7ms/step - loss: 0.0139\n",
            "Epoch 22/200\n",
            "104/104 [==============================] - 1s 7ms/step - loss: 0.0136\n",
            "Epoch 23/200\n",
            "104/104 [==============================] - 1s 7ms/step - loss: 0.0136\n",
            "Epoch 24/200\n",
            "104/104 [==============================] - 1s 6ms/step - loss: 0.0135\n",
            "Epoch 25/200\n",
            "104/104 [==============================] - 1s 7ms/step - loss: 0.0134\n",
            "Epoch 26/200\n",
            "104/104 [==============================] - 1s 7ms/step - loss: 0.0133\n",
            "Epoch 27/200\n",
            "104/104 [==============================] - 1s 7ms/step - loss: 0.0134\n",
            "Epoch 28/200\n",
            "104/104 [==============================] - 1s 7ms/step - loss: 0.0133\n",
            "Epoch 29/200\n",
            "104/104 [==============================] - 1s 7ms/step - loss: 0.0133\n",
            "Epoch 30/200\n",
            "104/104 [==============================] - 1s 6ms/step - loss: 0.0132\n",
            "Epoch 31/200\n",
            "104/104 [==============================] - 1s 7ms/step - loss: 0.0134\n",
            "Epoch 32/200\n",
            "104/104 [==============================] - 1s 7ms/step - loss: 0.0131\n",
            "Epoch 33/200\n",
            "104/104 [==============================] - 1s 7ms/step - loss: 0.0130\n",
            "Epoch 34/200\n",
            "104/104 [==============================] - 1s 7ms/step - loss: 0.0130\n",
            "Epoch 35/200\n",
            "104/104 [==============================] - 1s 7ms/step - loss: 0.0129\n",
            "Epoch 36/200\n",
            "104/104 [==============================] - 1s 7ms/step - loss: 0.0129\n",
            "Epoch 37/200\n",
            "104/104 [==============================] - 1s 7ms/step - loss: 0.0132\n",
            "Epoch 38/200\n",
            "104/104 [==============================] - 1s 7ms/step - loss: 0.0129\n",
            "Epoch 39/200\n",
            "104/104 [==============================] - 1s 7ms/step - loss: 0.0128\n",
            "Epoch 40/200\n",
            "104/104 [==============================] - 1s 7ms/step - loss: 0.0131\n",
            "Epoch 41/200\n",
            "104/104 [==============================] - 1s 7ms/step - loss: 0.0127\n",
            "Epoch 42/200\n",
            "104/104 [==============================] - 1s 7ms/step - loss: 0.0128\n",
            "Epoch 43/200\n",
            "104/104 [==============================] - 1s 7ms/step - loss: 0.0128\n",
            "Epoch 44/200\n",
            "104/104 [==============================] - 1s 7ms/step - loss: 0.0129\n",
            "Epoch 45/200\n",
            "104/104 [==============================] - 1s 7ms/step - loss: 0.0127\n",
            "Epoch 46/200\n",
            "104/104 [==============================] - 1s 6ms/step - loss: 0.0126\n",
            "Epoch 47/200\n",
            "104/104 [==============================] - 1s 7ms/step - loss: 0.0128\n",
            "Epoch 48/200\n",
            "104/104 [==============================] - 1s 7ms/step - loss: 0.0124\n",
            "Epoch 49/200\n",
            "104/104 [==============================] - 1s 7ms/step - loss: 0.0127\n",
            "Epoch 50/200\n",
            "104/104 [==============================] - 1s 7ms/step - loss: 0.0125\n",
            "Epoch 51/200\n",
            "104/104 [==============================] - 1s 7ms/step - loss: 0.0124\n",
            "Epoch 52/200\n",
            "104/104 [==============================] - 1s 6ms/step - loss: 0.0125\n",
            "Epoch 53/200\n",
            "104/104 [==============================] - 1s 7ms/step - loss: 0.0123\n",
            "Epoch 54/200\n",
            "104/104 [==============================] - 1s 7ms/step - loss: 0.0126\n",
            "Epoch 55/200\n",
            "104/104 [==============================] - 1s 7ms/step - loss: 0.0126\n",
            "Epoch 56/200\n",
            "104/104 [==============================] - 1s 7ms/step - loss: 0.0122\n",
            "Epoch 57/200\n",
            "104/104 [==============================] - 1s 7ms/step - loss: 0.0122\n",
            "Epoch 58/200\n",
            "104/104 [==============================] - 1s 7ms/step - loss: 0.0123\n",
            "Epoch 59/200\n",
            "104/104 [==============================] - 1s 7ms/step - loss: 0.0122\n",
            "Epoch 60/200\n",
            "104/104 [==============================] - 1s 6ms/step - loss: 0.0120\n",
            "Epoch 61/200\n",
            "104/104 [==============================] - 1s 6ms/step - loss: 0.0122\n",
            "Epoch 62/200\n",
            "104/104 [==============================] - 1s 7ms/step - loss: 0.0122\n",
            "Epoch 63/200\n",
            "104/104 [==============================] - 1s 7ms/step - loss: 0.0121\n",
            "Epoch 64/200\n",
            "104/104 [==============================] - 1s 6ms/step - loss: 0.0121\n",
            "Epoch 65/200\n",
            "104/104 [==============================] - 1s 7ms/step - loss: 0.0121\n",
            "Epoch 66/200\n",
            "104/104 [==============================] - 1s 7ms/step - loss: 0.0123\n",
            "Epoch 67/200\n",
            "104/104 [==============================] - 1s 7ms/step - loss: 0.0119\n",
            "Epoch 68/200\n",
            "104/104 [==============================] - 1s 7ms/step - loss: 0.0121\n",
            "Epoch 69/200\n",
            "104/104 [==============================] - 1s 7ms/step - loss: 0.0119\n",
            "Epoch 70/200\n",
            "104/104 [==============================] - 1s 7ms/step - loss: 0.0118\n",
            "Epoch 71/200\n",
            "104/104 [==============================] - 1s 7ms/step - loss: 0.0120\n",
            "Epoch 72/200\n",
            "104/104 [==============================] - 1s 7ms/step - loss: 0.0119\n",
            "Epoch 73/200\n",
            "104/104 [==============================] - 1s 6ms/step - loss: 0.0119\n",
            "Epoch 74/200\n",
            "104/104 [==============================] - 1s 7ms/step - loss: 0.0118\n",
            "Epoch 75/200\n",
            "104/104 [==============================] - 1s 7ms/step - loss: 0.0122\n",
            "Epoch 76/200\n",
            "104/104 [==============================] - 1s 7ms/step - loss: 0.0120\n",
            "Epoch 77/200\n",
            "104/104 [==============================] - 1s 7ms/step - loss: 0.0118\n",
            "Epoch 78/200\n",
            "104/104 [==============================] - 1s 6ms/step - loss: 0.0117\n",
            "Epoch 79/200\n",
            "104/104 [==============================] - 1s 6ms/step - loss: 0.0119\n",
            "Epoch 80/200\n",
            "104/104 [==============================] - 1s 7ms/step - loss: 0.0117\n",
            "Epoch 81/200\n",
            "104/104 [==============================] - 1s 7ms/step - loss: 0.0117\n",
            "Epoch 82/200\n",
            "104/104 [==============================] - 1s 6ms/step - loss: 0.0119\n",
            "Epoch 83/200\n",
            "104/104 [==============================] - 1s 6ms/step - loss: 0.0117\n",
            "Epoch 84/200\n",
            "104/104 [==============================] - 1s 7ms/step - loss: 0.0116\n",
            "Epoch 85/200\n",
            "104/104 [==============================] - 1s 7ms/step - loss: 0.0116\n",
            "Epoch 86/200\n",
            "104/104 [==============================] - 1s 7ms/step - loss: 0.0116\n",
            "Epoch 87/200\n",
            "104/104 [==============================] - 1s 7ms/step - loss: 0.0115\n",
            "Epoch 88/200\n",
            "104/104 [==============================] - 1s 7ms/step - loss: 0.0116\n",
            "Epoch 89/200\n",
            "104/104 [==============================] - 1s 7ms/step - loss: 0.0115\n",
            "Epoch 90/200\n",
            "104/104 [==============================] - 1s 7ms/step - loss: 0.0115\n",
            "Epoch 91/200\n",
            "104/104 [==============================] - 1s 7ms/step - loss: 0.0114\n",
            "Epoch 92/200\n",
            "104/104 [==============================] - 1s 7ms/step - loss: 0.0115\n",
            "Epoch 93/200\n",
            "104/104 [==============================] - 1s 7ms/step - loss: 0.0114\n",
            "Epoch 94/200\n",
            "104/104 [==============================] - 1s 7ms/step - loss: 0.0114\n",
            "Epoch 95/200\n",
            "104/104 [==============================] - 1s 6ms/step - loss: 0.0113\n",
            "Epoch 96/200\n",
            "104/104 [==============================] - 1s 7ms/step - loss: 0.0113\n",
            "Epoch 97/200\n",
            "104/104 [==============================] - 1s 7ms/step - loss: 0.0113\n",
            "Epoch 98/200\n",
            "104/104 [==============================] - 1s 6ms/step - loss: 0.0114\n",
            "Epoch 99/200\n",
            "104/104 [==============================] - 1s 7ms/step - loss: 0.0113\n",
            "Epoch 100/200\n",
            "104/104 [==============================] - 1s 7ms/step - loss: 0.0113\n",
            "Epoch 101/200\n",
            "104/104 [==============================] - 1s 6ms/step - loss: 0.0113\n",
            "Epoch 102/200\n",
            "104/104 [==============================] - 1s 7ms/step - loss: 0.0112\n",
            "Epoch 103/200\n",
            "104/104 [==============================] - 1s 7ms/step - loss: 0.0113\n",
            "Epoch 104/200\n",
            "104/104 [==============================] - 1s 6ms/step - loss: 0.0112\n",
            "Epoch 105/200\n",
            "104/104 [==============================] - 1s 7ms/step - loss: 0.0112\n",
            "Epoch 106/200\n",
            "104/104 [==============================] - 1s 7ms/step - loss: 0.0112\n",
            "Epoch 107/200\n",
            "104/104 [==============================] - 1s 7ms/step - loss: 0.0112\n",
            "Epoch 108/200\n",
            "104/104 [==============================] - 1s 7ms/step - loss: 0.0115\n",
            "Epoch 109/200\n",
            "104/104 [==============================] - 1s 7ms/step - loss: 0.0112\n",
            "Epoch 110/200\n",
            "104/104 [==============================] - 1s 7ms/step - loss: 0.0111\n",
            "Epoch 111/200\n",
            "104/104 [==============================] - 1s 7ms/step - loss: 0.0113\n",
            "Epoch 112/200\n",
            "104/104 [==============================] - 1s 7ms/step - loss: 0.0112\n",
            "Epoch 113/200\n",
            "104/104 [==============================] - 1s 6ms/step - loss: 0.0112\n",
            "Epoch 114/200\n",
            "104/104 [==============================] - 1s 7ms/step - loss: 0.0111\n",
            "Epoch 115/200\n",
            "104/104 [==============================] - 1s 6ms/step - loss: 0.0111\n",
            "Epoch 116/200\n",
            "104/104 [==============================] - 1s 7ms/step - loss: 0.0110\n",
            "Epoch 117/200\n",
            "104/104 [==============================] - 1s 7ms/step - loss: 0.0112\n",
            "Epoch 118/200\n",
            "104/104 [==============================] - 1s 7ms/step - loss: 0.0111\n",
            "Epoch 119/200\n",
            "104/104 [==============================] - 1s 7ms/step - loss: 0.0110\n",
            "Epoch 120/200\n",
            "104/104 [==============================] - 1s 7ms/step - loss: 0.0110\n",
            "Epoch 121/200\n",
            "104/104 [==============================] - 1s 7ms/step - loss: 0.0110\n",
            "Epoch 122/200\n",
            "104/104 [==============================] - 1s 7ms/step - loss: 0.0109\n",
            "Epoch 123/200\n",
            "104/104 [==============================] - 1s 7ms/step - loss: 0.0107\n",
            "Epoch 124/200\n",
            "104/104 [==============================] - 1s 7ms/step - loss: 0.0110\n",
            "Epoch 125/200\n",
            "104/104 [==============================] - 1s 7ms/step - loss: 0.0110\n",
            "Epoch 126/200\n",
            "104/104 [==============================] - 1s 7ms/step - loss: 0.0109\n",
            "Epoch 127/200\n",
            "104/104 [==============================] - 1s 7ms/step - loss: 0.0110\n",
            "Epoch 128/200\n",
            "104/104 [==============================] - 1s 7ms/step - loss: 0.0110\n",
            "Epoch 129/200\n",
            "104/104 [==============================] - 1s 7ms/step - loss: 0.0109\n",
            "Epoch 130/200\n",
            "104/104 [==============================] - 1s 7ms/step - loss: 0.0110\n",
            "Epoch 131/200\n",
            "104/104 [==============================] - 1s 7ms/step - loss: 0.0110\n",
            "Epoch 132/200\n",
            "104/104 [==============================] - 1s 7ms/step - loss: 0.0111\n",
            "Epoch 133/200\n",
            "104/104 [==============================] - 1s 7ms/step - loss: 0.0109\n",
            "Epoch 134/200\n",
            "104/104 [==============================] - 1s 7ms/step - loss: 0.0109\n",
            "Epoch 135/200\n",
            "104/104 [==============================] - 1s 7ms/step - loss: 0.0109\n",
            "Epoch 136/200\n",
            "104/104 [==============================] - 1s 7ms/step - loss: 0.0108\n",
            "Epoch 137/200\n",
            "104/104 [==============================] - 1s 7ms/step - loss: 0.0108\n",
            "Epoch 138/200\n",
            "104/104 [==============================] - 1s 7ms/step - loss: 0.0110\n",
            "Epoch 139/200\n",
            "104/104 [==============================] - 1s 7ms/step - loss: 0.0109\n",
            "Epoch 140/200\n",
            "104/104 [==============================] - 1s 7ms/step - loss: 0.0108\n",
            "Epoch 141/200\n",
            "104/104 [==============================] - 1s 7ms/step - loss: 0.0107\n",
            "Epoch 142/200\n",
            "104/104 [==============================] - 1s 6ms/step - loss: 0.0108\n",
            "Epoch 143/200\n",
            "104/104 [==============================] - 1s 7ms/step - loss: 0.0108\n",
            "Epoch 144/200\n",
            "104/104 [==============================] - 1s 7ms/step - loss: 0.0107\n",
            "Epoch 145/200\n",
            "104/104 [==============================] - 1s 7ms/step - loss: 0.0110\n",
            "Epoch 146/200\n",
            "104/104 [==============================] - 1s 7ms/step - loss: 0.0108\n",
            "Epoch 147/200\n",
            "104/104 [==============================] - 1s 7ms/step - loss: 0.0107\n",
            "Epoch 148/200\n",
            "104/104 [==============================] - 1s 7ms/step - loss: 0.0108\n",
            "Epoch 149/200\n",
            "104/104 [==============================] - 1s 7ms/step - loss: 0.0107\n",
            "Epoch 150/200\n",
            "104/104 [==============================] - 1s 7ms/step - loss: 0.0107\n",
            "Epoch 151/200\n",
            "104/104 [==============================] - 1s 7ms/step - loss: 0.0108\n",
            "Epoch 152/200\n",
            "104/104 [==============================] - 1s 7ms/step - loss: 0.0110\n",
            "Epoch 153/200\n",
            "104/104 [==============================] - 1s 7ms/step - loss: 0.0106\n",
            "Epoch 154/200\n",
            "104/104 [==============================] - 1s 7ms/step - loss: 0.0108\n",
            "Epoch 155/200\n",
            "104/104 [==============================] - 1s 7ms/step - loss: 0.0108\n",
            "Epoch 156/200\n",
            "104/104 [==============================] - 1s 7ms/step - loss: 0.0108\n",
            "Epoch 157/200\n",
            "104/104 [==============================] - 1s 6ms/step - loss: 0.0108\n",
            "Epoch 158/200\n",
            "104/104 [==============================] - 1s 7ms/step - loss: 0.0107\n",
            "Epoch 159/200\n",
            "104/104 [==============================] - 1s 7ms/step - loss: 0.0107\n",
            "Epoch 160/200\n",
            "104/104 [==============================] - 1s 6ms/step - loss: 0.0107\n",
            "Epoch 161/200\n",
            "104/104 [==============================] - 1s 7ms/step - loss: 0.0106\n",
            "Epoch 162/200\n",
            "104/104 [==============================] - 1s 7ms/step - loss: 0.0108\n",
            "Epoch 163/200\n",
            "104/104 [==============================] - 1s 6ms/step - loss: 0.0108\n",
            "Epoch 164/200\n",
            "104/104 [==============================] - 1s 7ms/step - loss: 0.0107\n",
            "Epoch 165/200\n",
            "104/104 [==============================] - 1s 7ms/step - loss: 0.0106\n",
            "Epoch 166/200\n",
            "104/104 [==============================] - 1s 7ms/step - loss: 0.0109\n",
            "Epoch 167/200\n",
            "104/104 [==============================] - 1s 7ms/step - loss: 0.0107\n",
            "Epoch 168/200\n",
            "104/104 [==============================] - 1s 7ms/step - loss: 0.0107\n",
            "Epoch 169/200\n",
            "104/104 [==============================] - 1s 6ms/step - loss: 0.0106\n",
            "Epoch 170/200\n",
            "104/104 [==============================] - 1s 7ms/step - loss: 0.0108\n",
            "Epoch 171/200\n",
            "104/104 [==============================] - 1s 7ms/step - loss: 0.0107\n",
            "Epoch 172/200\n",
            "104/104 [==============================] - 1s 7ms/step - loss: 0.0109\n",
            "Epoch 173/200\n",
            "104/104 [==============================] - 1s 7ms/step - loss: 0.0107\n",
            "Epoch 174/200\n",
            "104/104 [==============================] - 1s 7ms/step - loss: 0.0108\n",
            "Epoch 175/200\n",
            "104/104 [==============================] - 1s 6ms/step - loss: 0.0105\n",
            "Epoch 176/200\n",
            "104/104 [==============================] - 1s 7ms/step - loss: 0.0106\n",
            "Epoch 177/200\n",
            "104/104 [==============================] - 1s 7ms/step - loss: 0.0108\n",
            "Epoch 178/200\n",
            "104/104 [==============================] - 1s 7ms/step - loss: 0.0106\n",
            "Epoch 179/200\n",
            "104/104 [==============================] - 1s 7ms/step - loss: 0.0106\n",
            "Epoch 180/200\n",
            "104/104 [==============================] - 1s 7ms/step - loss: 0.0106\n",
            "Epoch 181/200\n",
            "104/104 [==============================] - 1s 7ms/step - loss: 0.0107\n",
            "Epoch 182/200\n",
            "104/104 [==============================] - 1s 7ms/step - loss: 0.0107\n",
            "Epoch 183/200\n",
            "104/104 [==============================] - 1s 7ms/step - loss: 0.0108\n",
            "Epoch 184/200\n",
            "104/104 [==============================] - 1s 7ms/step - loss: 0.0108\n",
            "Epoch 185/200\n",
            "104/104 [==============================] - 1s 7ms/step - loss: 0.0107\n",
            "Epoch 186/200\n",
            "104/104 [==============================] - 1s 7ms/step - loss: 0.0106\n",
            "Epoch 187/200\n",
            "104/104 [==============================] - 1s 7ms/step - loss: 0.0107\n",
            "Epoch 188/200\n",
            "104/104 [==============================] - 1s 7ms/step - loss: 0.0107\n",
            "Epoch 189/200\n",
            "104/104 [==============================] - 1s 7ms/step - loss: 0.0106\n",
            "Epoch 190/200\n",
            "104/104 [==============================] - 1s 7ms/step - loss: 0.0106\n",
            "Epoch 191/200\n",
            "104/104 [==============================] - 1s 7ms/step - loss: 0.0106\n",
            "Epoch 192/200\n",
            "104/104 [==============================] - 1s 7ms/step - loss: 0.0107\n",
            "Epoch 193/200\n",
            "104/104 [==============================] - 1s 6ms/step - loss: 0.0106\n",
            "Epoch 194/200\n",
            "104/104 [==============================] - 1s 6ms/step - loss: 0.0107\n",
            "Epoch 195/200\n",
            "104/104 [==============================] - 1s 7ms/step - loss: 0.0106\n",
            "Epoch 196/200\n",
            "104/104 [==============================] - 1s 7ms/step - loss: 0.0107\n",
            "Epoch 197/200\n",
            "104/104 [==============================] - 1s 7ms/step - loss: 0.0105\n",
            "Epoch 198/200\n",
            "104/104 [==============================] - 1s 7ms/step - loss: 0.0107\n",
            "Epoch 199/200\n",
            "104/104 [==============================] - 1s 7ms/step - loss: 0.0106\n",
            "Epoch 200/200\n",
            "104/104 [==============================] - 1s 7ms/step - loss: 0.0107\n"
          ],
          "name": "stdout"
        },
        {
          "output_type": "execute_result",
          "data": {
            "text/plain": [
              "<keras.callbacks.History at 0x7f6a7fe1bcf8>"
            ]
          },
          "metadata": {
            "tags": []
          },
          "execution_count": 21
        }
      ]
    },
    {
      "cell_type": "code",
      "metadata": {
        "id": "AcefM6E4ouAy",
        "colab_type": "code",
        "colab": {}
      },
      "source": [
        "test=pd.read_csv('/content/y.csv')"
      ],
      "execution_count": 0,
      "outputs": []
    },
    {
      "cell_type": "code",
      "metadata": {
        "id": "lxhz1WVmpXhP",
        "colab_type": "code",
        "outputId": "fd3455a6-129a-4cf5-abf6-18ac20c50afa",
        "colab": {
          "base_uri": "https://localhost:8080/",
          "height": 206
        }
      },
      "source": [
        "test.head()"
      ],
      "execution_count": 0,
      "outputs": [
        {
          "output_type": "execute_result",
          "data": {
            "text/html": [
              "<div>\n",
              "<style scoped>\n",
              "    .dataframe tbody tr th:only-of-type {\n",
              "        vertical-align: middle;\n",
              "    }\n",
              "\n",
              "    .dataframe tbody tr th {\n",
              "        vertical-align: top;\n",
              "    }\n",
              "\n",
              "    .dataframe thead th {\n",
              "        text-align: right;\n",
              "    }\n",
              "</style>\n",
              "<table border=\"1\" class=\"dataframe\">\n",
              "  <thead>\n",
              "    <tr style=\"text-align: right;\">\n",
              "      <th></th>\n",
              "      <th>2010-11</th>\n",
              "      <th>25030</th>\n",
              "    </tr>\n",
              "  </thead>\n",
              "  <tbody>\n",
              "    <tr>\n",
              "      <th>0</th>\n",
              "      <td>2010-12</td>\n",
              "      <td>32619</td>\n",
              "    </tr>\n",
              "    <tr>\n",
              "      <th>1</th>\n",
              "      <td>2011-01</td>\n",
              "      <td>22041</td>\n",
              "    </tr>\n",
              "    <tr>\n",
              "      <th>2</th>\n",
              "      <td>2011-02</td>\n",
              "      <td>20503</td>\n",
              "    </tr>\n",
              "    <tr>\n",
              "      <th>3</th>\n",
              "      <td>2011-03</td>\n",
              "      <td>23622</td>\n",
              "    </tr>\n",
              "    <tr>\n",
              "      <th>4</th>\n",
              "      <td>2011-04</td>\n",
              "      <td>21772</td>\n",
              "    </tr>\n",
              "  </tbody>\n",
              "</table>\n",
              "</div>"
            ],
            "text/plain": [
              "   2010-11  25030\n",
              "0  2010-12  32619\n",
              "1  2011-01  22041\n",
              "2  2011-02  20503\n",
              "3  2011-03  23622\n",
              "4  2011-04  21772"
            ]
          },
          "metadata": {
            "tags": []
          },
          "execution_count": 23
        }
      ]
    },
    {
      "cell_type": "code",
      "metadata": {
        "id": "KqiKN2Bzpaqo",
        "colab_type": "code",
        "colab": {}
      },
      "source": [
        "data_test=test['25030']"
      ],
      "execution_count": 0,
      "outputs": []
    },
    {
      "cell_type": "code",
      "metadata": {
        "id": "G2PIB2bEpje6",
        "colab_type": "code",
        "colab": {}
      },
      "source": [
        "data_test=np.array(data_test).reshape(-1,1)\n",
        "\n",
        "data_test=sc.fit_transform(data_test)\n",
        "\n",
        "lookback=1\n",
        "xtest,ytest=get_data(data_test,lookback)\n"
      ],
      "execution_count": 0,
      "outputs": []
    },
    {
      "cell_type": "code",
      "metadata": {
        "id": "-3OSC9q_pmQo",
        "colab_type": "code",
        "outputId": "c46fcc6c-5827-48a2-931d-6de7a6e92119",
        "colab": {
          "base_uri": "https://localhost:8080/",
          "height": 34
        }
      },
      "source": [
        "xtest.shape"
      ],
      "execution_count": 0,
      "outputs": [
        {
          "output_type": "execute_result",
          "data": {
            "text/plain": [
              "(35, 1)"
            ]
          },
          "metadata": {
            "tags": []
          },
          "execution_count": 26
        }
      ]
    },
    {
      "cell_type": "code",
      "metadata": {
        "id": "8bW8yBErpo-z",
        "colab_type": "code",
        "colab": {}
      },
      "source": [
        "xtest=xtest.reshape(35,1,1)\n"
      ],
      "execution_count": 0,
      "outputs": []
    },
    {
      "cell_type": "code",
      "metadata": {
        "id": "tFZbwZVxptmD",
        "colab_type": "code",
        "colab": {}
      },
      "source": [
        "pred=model.predict(xtest)\n",
        "\n",
        "pred = sc.inverse_transform(pred)"
      ],
      "execution_count": 0,
      "outputs": []
    },
    {
      "cell_type": "code",
      "metadata": {
        "id": "Jdv5-28zpxH0",
        "colab_type": "code",
        "colab": {}
      },
      "source": [
        "ytest = np.array(ytest)\n",
        "ytest = ytest.reshape(-1, 1)\n",
        "ytest = sc.inverse_transform(ytest)"
      ],
      "execution_count": 0,
      "outputs": []
    },
    {
      "cell_type": "code",
      "metadata": {
        "id": "CbE82Vi7pzZ3",
        "colab_type": "code",
        "outputId": "ca517300-f446-4f4c-a22a-691467337106",
        "colab": {
          "base_uri": "https://localhost:8080/",
          "height": 320
        }
      },
      "source": [
        "plt.figure(figsize=(14,5))\n",
        "plt.plot(ytest, label = 'real number ')\n",
        "plt.plot(pred, label = 'predicted number')\n",
        "plt.ylabel('# stock')\n",
        "plt.legend()\n",
        "plt.show()"
      ],
      "execution_count": 0,
      "outputs": [
        {
          "output_type": "display_data",
          "data": {
            "image/png": "[encoded data removed]",
            "text/plain": [
              "<Figure size 1008x360 with 1 Axes>"
            ]
          },
          "metadata": {
            "tags": []
          }
        }
      ]
    },
    {
      "cell_type": "code",
      "metadata": {
        "id": "0IGvKJZ4p2P_",
        "colab_type": "code",
        "colab": {}
      },
      "source": [
        ""
      ],
      "execution_count": 0,
      "outputs": []
    }
  ]
}